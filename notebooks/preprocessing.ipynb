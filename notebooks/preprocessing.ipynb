{
 "cells": [
  {
   "cell_type": "code",
   "execution_count": 43,
   "id": "3b1f0cb5-b960-4ee4-a03b-0c8e7a276969",
   "metadata": {
    "tags": []
   },
   "outputs": [],
   "source": [
    "import numpy as np \n",
    "import pandas as pd \n",
    "import tensorflow as tf\n",
    "import keras\n",
    "import matplotlib.pyplot as plt\n",
    "import os\n",
    "import cv2"
   ]
  },
  {
   "cell_type": "code",
   "execution_count": 29,
   "id": "01eb83b3-e260-4b27-a81e-4c14e6336665",
   "metadata": {
    "tags": []
   },
   "outputs": [],
   "source": [
    "mfiles=[]\n",
    "mpaths = []\n",
    "for dirname, _, filenames in os.walk('png_masks'):\n",
    "    for filename in filenames:\n",
    "        path = os.path.join(dirname, filename)    \n",
    "        mpaths.append(path)\n",
    "        mfiles.append(filename)"
   ]
  },
  {
   "cell_type": "code",
   "execution_count": 30,
   "id": "478ab384-5643-4135-8e50-5766c08835af",
   "metadata": {
    "tags": []
   },
   "outputs": [],
   "source": [
    "files=[]\n",
    "paths = []\n",
    "for dirname, _, filenames in os.walk('png_images'):\n",
    "    for filename in filenames:\n",
    "        path = os.path.join(dirname, filename)    \n",
    "        paths.append(path)\n",
    "        files.append(filename)"
   ]
  },
  {
   "cell_type": "code",
   "execution_count": 31,
   "id": "eebf0229-8204-4006-a5fe-d38da7028878",
   "metadata": {
    "tags": []
   },
   "outputs": [
    {
     "data": {
      "text/html": [
       "<div>\n",
       "<style scoped>\n",
       "    .dataframe tbody tr th:only-of-type {\n",
       "        vertical-align: middle;\n",
       "    }\n",
       "\n",
       "    .dataframe tbody tr th {\n",
       "        vertical-align: top;\n",
       "    }\n",
       "\n",
       "    .dataframe thead th {\n",
       "        text-align: right;\n",
       "    }\n",
       "</style>\n",
       "<table border=\"1\" class=\"dataframe\">\n",
       "  <thead>\n",
       "    <tr style=\"text-align: right;\">\n",
       "      <th></th>\n",
       "      <th>new_filename</th>\n",
       "      <th>ImageId</th>\n",
       "      <th>has_pneumo</th>\n",
       "    </tr>\n",
       "  </thead>\n",
       "  <tbody>\n",
       "    <tr>\n",
       "      <th>0</th>\n",
       "      <td>0_train_0_.png</td>\n",
       "      <td>1.2.276.0.7230010.3.1.4.8323329.5597.151787518...</td>\n",
       "      <td>0</td>\n",
       "    </tr>\n",
       "    <tr>\n",
       "      <th>1</th>\n",
       "      <td>1_train_0_.png</td>\n",
       "      <td>1.2.276.0.7230010.3.1.4.8323329.12515.15178752...</td>\n",
       "      <td>0</td>\n",
       "    </tr>\n",
       "    <tr>\n",
       "      <th>2</th>\n",
       "      <td>2_train_1_.png</td>\n",
       "      <td>1.2.276.0.7230010.3.1.4.8323329.4904.151787518...</td>\n",
       "      <td>1</td>\n",
       "    </tr>\n",
       "    <tr>\n",
       "      <th>3</th>\n",
       "      <td>3_train_1_.png</td>\n",
       "      <td>1.2.276.0.7230010.3.1.4.8323329.32579.15178751...</td>\n",
       "      <td>1</td>\n",
       "    </tr>\n",
       "    <tr>\n",
       "      <th>4</th>\n",
       "      <td>4_train_1_.png</td>\n",
       "      <td>1.2.276.0.7230010.3.1.4.8323329.1314.151787516...</td>\n",
       "      <td>1</td>\n",
       "    </tr>\n",
       "    <tr>\n",
       "      <th>...</th>\n",
       "      <td>...</td>\n",
       "      <td>...</td>\n",
       "      <td>...</td>\n",
       "    </tr>\n",
       "    <tr>\n",
       "      <th>10670</th>\n",
       "      <td>10670_train_1_.png</td>\n",
       "      <td>1.2.276.0.7230010.3.1.4.8323329.32459.15178751...</td>\n",
       "      <td>1</td>\n",
       "    </tr>\n",
       "    <tr>\n",
       "      <th>10671</th>\n",
       "      <td>10671_train_1_.png</td>\n",
       "      <td>1.2.276.0.7230010.3.1.4.8323329.4461.151787518...</td>\n",
       "      <td>1</td>\n",
       "    </tr>\n",
       "    <tr>\n",
       "      <th>10672</th>\n",
       "      <td>10672_train_0_.png</td>\n",
       "      <td>1.2.276.0.7230010.3.1.4.8323329.32730.15178751...</td>\n",
       "      <td>0</td>\n",
       "    </tr>\n",
       "    <tr>\n",
       "      <th>10673</th>\n",
       "      <td>10673_train_0_.png</td>\n",
       "      <td>1.2.276.0.7230010.3.1.4.8323329.13252.15178752...</td>\n",
       "      <td>0</td>\n",
       "    </tr>\n",
       "    <tr>\n",
       "      <th>10674</th>\n",
       "      <td>10674_train_0_.png</td>\n",
       "      <td>1.2.276.0.7230010.3.1.4.8323329.12050.15178752...</td>\n",
       "      <td>0</td>\n",
       "    </tr>\n",
       "  </tbody>\n",
       "</table>\n",
       "<p>10675 rows × 3 columns</p>\n",
       "</div>"
      ],
      "text/plain": [
       "             new_filename                                            ImageId  \\\n",
       "0          0_train_0_.png  1.2.276.0.7230010.3.1.4.8323329.5597.151787518...   \n",
       "1          1_train_0_.png  1.2.276.0.7230010.3.1.4.8323329.12515.15178752...   \n",
       "2          2_train_1_.png  1.2.276.0.7230010.3.1.4.8323329.4904.151787518...   \n",
       "3          3_train_1_.png  1.2.276.0.7230010.3.1.4.8323329.32579.15178751...   \n",
       "4          4_train_1_.png  1.2.276.0.7230010.3.1.4.8323329.1314.151787516...   \n",
       "...                   ...                                                ...   \n",
       "10670  10670_train_1_.png  1.2.276.0.7230010.3.1.4.8323329.32459.15178751...   \n",
       "10671  10671_train_1_.png  1.2.276.0.7230010.3.1.4.8323329.4461.151787518...   \n",
       "10672  10672_train_0_.png  1.2.276.0.7230010.3.1.4.8323329.32730.15178751...   \n",
       "10673  10673_train_0_.png  1.2.276.0.7230010.3.1.4.8323329.13252.15178752...   \n",
       "10674  10674_train_0_.png  1.2.276.0.7230010.3.1.4.8323329.12050.15178752...   \n",
       "\n",
       "       has_pneumo  \n",
       "0               0  \n",
       "1               0  \n",
       "2               1  \n",
       "3               1  \n",
       "4               1  \n",
       "...           ...  \n",
       "10670           1  \n",
       "10671           1  \n",
       "10672           0  \n",
       "10673           0  \n",
       "10674           0  \n",
       "\n",
       "[10675 rows x 3 columns]"
      ]
     },
     "execution_count": 31,
     "metadata": {},
     "output_type": "execute_result"
    }
   ],
   "source": [
    "imageData=pd.read_csv('stage_1_train_images.csv')\n",
    "imageData"
   ]
  },
  {
   "cell_type": "code",
   "execution_count": 32,
   "id": "462b130c-f6d6-4ab6-b990-337cb3cc052d",
   "metadata": {
    "tags": []
   },
   "outputs": [
    {
     "data": {
      "text/html": [
       "<div>\n",
       "<style scoped>\n",
       "    .dataframe tbody tr th:only-of-type {\n",
       "        vertical-align: middle;\n",
       "    }\n",
       "\n",
       "    .dataframe tbody tr th {\n",
       "        vertical-align: top;\n",
       "    }\n",
       "\n",
       "    .dataframe thead th {\n",
       "        text-align: right;\n",
       "    }\n",
       "</style>\n",
       "<table border=\"1\" class=\"dataframe\">\n",
       "  <thead>\n",
       "    <tr style=\"text-align: right;\">\n",
       "      <th></th>\n",
       "      <th>new_filename</th>\n",
       "      <th>ImageId</th>\n",
       "      <th>has_pneumo</th>\n",
       "      <th>label</th>\n",
       "      <th>path</th>\n",
       "      <th>mpath</th>\n",
       "    </tr>\n",
       "  </thead>\n",
       "  <tbody>\n",
       "    <tr>\n",
       "      <th>0</th>\n",
       "      <td>0_train_0_.png</td>\n",
       "      <td>1.2.276.0.7230010.3.1.4.8323329.5597.151787518...</td>\n",
       "      <td>0</td>\n",
       "      <td>0</td>\n",
       "      <td>png_images/0_train_0_.png</td>\n",
       "      <td>png_masks/0_train_0_.png</td>\n",
       "    </tr>\n",
       "    <tr>\n",
       "      <th>1</th>\n",
       "      <td>1_train_0_.png</td>\n",
       "      <td>1.2.276.0.7230010.3.1.4.8323329.12515.15178752...</td>\n",
       "      <td>0</td>\n",
       "      <td>0</td>\n",
       "      <td>png_images/1_train_0_.png</td>\n",
       "      <td>png_masks/1_train_0_.png</td>\n",
       "    </tr>\n",
       "    <tr>\n",
       "      <th>2</th>\n",
       "      <td>2_train_1_.png</td>\n",
       "      <td>1.2.276.0.7230010.3.1.4.8323329.4904.151787518...</td>\n",
       "      <td>1</td>\n",
       "      <td>1</td>\n",
       "      <td>png_images/2_train_1_.png</td>\n",
       "      <td>png_masks/2_train_1_.png</td>\n",
       "    </tr>\n",
       "    <tr>\n",
       "      <th>3</th>\n",
       "      <td>3_train_1_.png</td>\n",
       "      <td>1.2.276.0.7230010.3.1.4.8323329.32579.15178751...</td>\n",
       "      <td>1</td>\n",
       "      <td>1</td>\n",
       "      <td>png_images/3_train_1_.png</td>\n",
       "      <td>png_masks/3_train_1_.png</td>\n",
       "    </tr>\n",
       "    <tr>\n",
       "      <th>4</th>\n",
       "      <td>4_train_1_.png</td>\n",
       "      <td>1.2.276.0.7230010.3.1.4.8323329.1314.151787516...</td>\n",
       "      <td>1</td>\n",
       "      <td>1</td>\n",
       "      <td>png_images/4_train_1_.png</td>\n",
       "      <td>png_masks/4_train_1_.png</td>\n",
       "    </tr>\n",
       "    <tr>\n",
       "      <th>...</th>\n",
       "      <td>...</td>\n",
       "      <td>...</td>\n",
       "      <td>...</td>\n",
       "      <td>...</td>\n",
       "      <td>...</td>\n",
       "      <td>...</td>\n",
       "    </tr>\n",
       "    <tr>\n",
       "      <th>10670</th>\n",
       "      <td>10670_train_1_.png</td>\n",
       "      <td>1.2.276.0.7230010.3.1.4.8323329.32459.15178751...</td>\n",
       "      <td>1</td>\n",
       "      <td>1</td>\n",
       "      <td>png_images/10670_train_1_.png</td>\n",
       "      <td>png_masks/10670_train_1_.png</td>\n",
       "    </tr>\n",
       "    <tr>\n",
       "      <th>10671</th>\n",
       "      <td>10671_train_1_.png</td>\n",
       "      <td>1.2.276.0.7230010.3.1.4.8323329.4461.151787518...</td>\n",
       "      <td>1</td>\n",
       "      <td>1</td>\n",
       "      <td>png_images/10671_train_1_.png</td>\n",
       "      <td>png_masks/10671_train_1_.png</td>\n",
       "    </tr>\n",
       "    <tr>\n",
       "      <th>10672</th>\n",
       "      <td>10672_train_0_.png</td>\n",
       "      <td>1.2.276.0.7230010.3.1.4.8323329.32730.15178751...</td>\n",
       "      <td>0</td>\n",
       "      <td>0</td>\n",
       "      <td>png_images/10672_train_0_.png</td>\n",
       "      <td>png_masks/10672_train_0_.png</td>\n",
       "    </tr>\n",
       "    <tr>\n",
       "      <th>10673</th>\n",
       "      <td>10673_train_0_.png</td>\n",
       "      <td>1.2.276.0.7230010.3.1.4.8323329.13252.15178752...</td>\n",
       "      <td>0</td>\n",
       "      <td>0</td>\n",
       "      <td>png_images/10673_train_0_.png</td>\n",
       "      <td>png_masks/10673_train_0_.png</td>\n",
       "    </tr>\n",
       "    <tr>\n",
       "      <th>10674</th>\n",
       "      <td>10674_train_0_.png</td>\n",
       "      <td>1.2.276.0.7230010.3.1.4.8323329.12050.15178752...</td>\n",
       "      <td>0</td>\n",
       "      <td>0</td>\n",
       "      <td>png_images/10674_train_0_.png</td>\n",
       "      <td>png_masks/10674_train_0_.png</td>\n",
       "    </tr>\n",
       "  </tbody>\n",
       "</table>\n",
       "<p>10675 rows × 6 columns</p>\n",
       "</div>"
      ],
      "text/plain": [
       "             new_filename                                            ImageId  \\\n",
       "0          0_train_0_.png  1.2.276.0.7230010.3.1.4.8323329.5597.151787518...   \n",
       "1          1_train_0_.png  1.2.276.0.7230010.3.1.4.8323329.12515.15178752...   \n",
       "2          2_train_1_.png  1.2.276.0.7230010.3.1.4.8323329.4904.151787518...   \n",
       "3          3_train_1_.png  1.2.276.0.7230010.3.1.4.8323329.32579.15178751...   \n",
       "4          4_train_1_.png  1.2.276.0.7230010.3.1.4.8323329.1314.151787516...   \n",
       "...                   ...                                                ...   \n",
       "10670  10670_train_1_.png  1.2.276.0.7230010.3.1.4.8323329.32459.15178751...   \n",
       "10671  10671_train_1_.png  1.2.276.0.7230010.3.1.4.8323329.4461.151787518...   \n",
       "10672  10672_train_0_.png  1.2.276.0.7230010.3.1.4.8323329.32730.15178751...   \n",
       "10673  10673_train_0_.png  1.2.276.0.7230010.3.1.4.8323329.13252.15178752...   \n",
       "10674  10674_train_0_.png  1.2.276.0.7230010.3.1.4.8323329.12050.15178752...   \n",
       "\n",
       "       has_pneumo  label                           path  \\\n",
       "0               0      0      png_images/0_train_0_.png   \n",
       "1               0      0      png_images/1_train_0_.png   \n",
       "2               1      1      png_images/2_train_1_.png   \n",
       "3               1      1      png_images/3_train_1_.png   \n",
       "4               1      1      png_images/4_train_1_.png   \n",
       "...           ...    ...                            ...   \n",
       "10670           1      1  png_images/10670_train_1_.png   \n",
       "10671           1      1  png_images/10671_train_1_.png   \n",
       "10672           0      0  png_images/10672_train_0_.png   \n",
       "10673           0      0  png_images/10673_train_0_.png   \n",
       "10674           0      0  png_images/10674_train_0_.png   \n",
       "\n",
       "                              mpath  \n",
       "0          png_masks/0_train_0_.png  \n",
       "1          png_masks/1_train_0_.png  \n",
       "2          png_masks/2_train_1_.png  \n",
       "3          png_masks/3_train_1_.png  \n",
       "4          png_masks/4_train_1_.png  \n",
       "...                             ...  \n",
       "10670  png_masks/10670_train_1_.png  \n",
       "10671  png_masks/10671_train_1_.png  \n",
       "10672  png_masks/10672_train_0_.png  \n",
       "10673  png_masks/10673_train_0_.png  \n",
       "10674  png_masks/10674_train_0_.png  \n",
       "\n",
       "[10675 rows x 6 columns]"
      ]
     },
     "metadata": {},
     "output_type": "display_data"
    }
   ],
   "source": [
    "images='png_images'\n",
    "masks='png_masks'\n",
    "# label = has_pneumo\n",
    "imageData['label']=imageData['has_pneumo']\n",
    "imageData['path']=imageData['new_filename'].apply(lambda x:os.path.join(images,x))\n",
    "imageData['mpath']=imageData['new_filename'].apply(lambda x:os.path.join(masks,x))\n",
    "display(imageData)"
   ]
  },
  {
   "cell_type": "code",
   "execution_count": 33,
   "id": "8d00ff45-37c6-43a0-b350-b0f4c090742f",
   "metadata": {
    "tags": []
   },
   "outputs": [
    {
     "data": {
      "text/html": [
       "<div>\n",
       "<style scoped>\n",
       "    .dataframe tbody tr th:only-of-type {\n",
       "        vertical-align: middle;\n",
       "    }\n",
       "\n",
       "    .dataframe tbody tr th {\n",
       "        vertical-align: top;\n",
       "    }\n",
       "\n",
       "    .dataframe thead th {\n",
       "        text-align: right;\n",
       "    }\n",
       "</style>\n",
       "<table border=\"1\" class=\"dataframe\">\n",
       "  <thead>\n",
       "    <tr style=\"text-align: right;\">\n",
       "      <th></th>\n",
       "      <th>new_filename</th>\n",
       "      <th>ImageId</th>\n",
       "      <th>has_pneumo</th>\n",
       "      <th>label</th>\n",
       "      <th>path</th>\n",
       "      <th>mpath</th>\n",
       "    </tr>\n",
       "  </thead>\n",
       "  <tbody>\n",
       "    <tr>\n",
       "      <th>0</th>\n",
       "      <td>0_train_0_.png</td>\n",
       "      <td>1.2.276.0.7230010.3.1.4.8323329.5597.151787518...</td>\n",
       "      <td>0</td>\n",
       "      <td>0</td>\n",
       "      <td>png_images/0_train_0_.png</td>\n",
       "      <td>png_masks/0_train_0_.png</td>\n",
       "    </tr>\n",
       "    <tr>\n",
       "      <th>1</th>\n",
       "      <td>1_train_0_.png</td>\n",
       "      <td>1.2.276.0.7230010.3.1.4.8323329.12515.15178752...</td>\n",
       "      <td>0</td>\n",
       "      <td>0</td>\n",
       "      <td>png_images/1_train_0_.png</td>\n",
       "      <td>png_masks/1_train_0_.png</td>\n",
       "    </tr>\n",
       "    <tr>\n",
       "      <th>2</th>\n",
       "      <td>2_train_1_.png</td>\n",
       "      <td>1.2.276.0.7230010.3.1.4.8323329.4904.151787518...</td>\n",
       "      <td>1</td>\n",
       "      <td>1</td>\n",
       "      <td>png_images/2_train_1_.png</td>\n",
       "      <td>png_masks/2_train_1_.png</td>\n",
       "    </tr>\n",
       "    <tr>\n",
       "      <th>3</th>\n",
       "      <td>3_train_1_.png</td>\n",
       "      <td>1.2.276.0.7230010.3.1.4.8323329.32579.15178751...</td>\n",
       "      <td>1</td>\n",
       "      <td>1</td>\n",
       "      <td>png_images/3_train_1_.png</td>\n",
       "      <td>png_masks/3_train_1_.png</td>\n",
       "    </tr>\n",
       "    <tr>\n",
       "      <th>4</th>\n",
       "      <td>4_train_1_.png</td>\n",
       "      <td>1.2.276.0.7230010.3.1.4.8323329.1314.151787516...</td>\n",
       "      <td>1</td>\n",
       "      <td>1</td>\n",
       "      <td>png_images/4_train_1_.png</td>\n",
       "      <td>png_masks/4_train_1_.png</td>\n",
       "    </tr>\n",
       "    <tr>\n",
       "      <th>...</th>\n",
       "      <td>...</td>\n",
       "      <td>...</td>\n",
       "      <td>...</td>\n",
       "      <td>...</td>\n",
       "      <td>...</td>\n",
       "      <td>...</td>\n",
       "    </tr>\n",
       "    <tr>\n",
       "      <th>995</th>\n",
       "      <td>995_train_1_.png</td>\n",
       "      <td>1.2.276.0.7230010.3.1.4.8323329.1759.151787516...</td>\n",
       "      <td>1</td>\n",
       "      <td>1</td>\n",
       "      <td>png_images/995_train_1_.png</td>\n",
       "      <td>png_masks/995_train_1_.png</td>\n",
       "    </tr>\n",
       "    <tr>\n",
       "      <th>996</th>\n",
       "      <td>996_train_0_.png</td>\n",
       "      <td>1.2.276.0.7230010.3.1.4.8323329.4216.151787518...</td>\n",
       "      <td>0</td>\n",
       "      <td>0</td>\n",
       "      <td>png_images/996_train_0_.png</td>\n",
       "      <td>png_masks/996_train_0_.png</td>\n",
       "    </tr>\n",
       "    <tr>\n",
       "      <th>997</th>\n",
       "      <td>997_train_0_.png</td>\n",
       "      <td>1.2.276.0.7230010.3.1.4.8323329.2991.151787517...</td>\n",
       "      <td>0</td>\n",
       "      <td>0</td>\n",
       "      <td>png_images/997_train_0_.png</td>\n",
       "      <td>png_masks/997_train_0_.png</td>\n",
       "    </tr>\n",
       "    <tr>\n",
       "      <th>998</th>\n",
       "      <td>998_train_0_.png</td>\n",
       "      <td>1.2.276.0.7230010.3.1.4.8323329.3349.151787517...</td>\n",
       "      <td>0</td>\n",
       "      <td>0</td>\n",
       "      <td>png_images/998_train_0_.png</td>\n",
       "      <td>png_masks/998_train_0_.png</td>\n",
       "    </tr>\n",
       "    <tr>\n",
       "      <th>999</th>\n",
       "      <td>999_train_1_.png</td>\n",
       "      <td>1.2.276.0.7230010.3.1.4.8323329.11599.15178752...</td>\n",
       "      <td>1</td>\n",
       "      <td>1</td>\n",
       "      <td>png_images/999_train_1_.png</td>\n",
       "      <td>png_masks/999_train_1_.png</td>\n",
       "    </tr>\n",
       "  </tbody>\n",
       "</table>\n",
       "<p>1000 rows × 6 columns</p>\n",
       "</div>"
      ],
      "text/plain": [
       "         new_filename                                            ImageId  \\\n",
       "0      0_train_0_.png  1.2.276.0.7230010.3.1.4.8323329.5597.151787518...   \n",
       "1      1_train_0_.png  1.2.276.0.7230010.3.1.4.8323329.12515.15178752...   \n",
       "2      2_train_1_.png  1.2.276.0.7230010.3.1.4.8323329.4904.151787518...   \n",
       "3      3_train_1_.png  1.2.276.0.7230010.3.1.4.8323329.32579.15178751...   \n",
       "4      4_train_1_.png  1.2.276.0.7230010.3.1.4.8323329.1314.151787516...   \n",
       "..                ...                                                ...   \n",
       "995  995_train_1_.png  1.2.276.0.7230010.3.1.4.8323329.1759.151787516...   \n",
       "996  996_train_0_.png  1.2.276.0.7230010.3.1.4.8323329.4216.151787518...   \n",
       "997  997_train_0_.png  1.2.276.0.7230010.3.1.4.8323329.2991.151787517...   \n",
       "998  998_train_0_.png  1.2.276.0.7230010.3.1.4.8323329.3349.151787517...   \n",
       "999  999_train_1_.png  1.2.276.0.7230010.3.1.4.8323329.11599.15178752...   \n",
       "\n",
       "     has_pneumo  label                         path  \\\n",
       "0             0      0    png_images/0_train_0_.png   \n",
       "1             0      0    png_images/1_train_0_.png   \n",
       "2             1      1    png_images/2_train_1_.png   \n",
       "3             1      1    png_images/3_train_1_.png   \n",
       "4             1      1    png_images/4_train_1_.png   \n",
       "..          ...    ...                          ...   \n",
       "995           1      1  png_images/995_train_1_.png   \n",
       "996           0      0  png_images/996_train_0_.png   \n",
       "997           0      0  png_images/997_train_0_.png   \n",
       "998           0      0  png_images/998_train_0_.png   \n",
       "999           1      1  png_images/999_train_1_.png   \n",
       "\n",
       "                          mpath  \n",
       "0      png_masks/0_train_0_.png  \n",
       "1      png_masks/1_train_0_.png  \n",
       "2      png_masks/2_train_1_.png  \n",
       "3      png_masks/3_train_1_.png  \n",
       "4      png_masks/4_train_1_.png  \n",
       "..                          ...  \n",
       "995  png_masks/995_train_1_.png  \n",
       "996  png_masks/996_train_0_.png  \n",
       "997  png_masks/997_train_0_.png  \n",
       "998  png_masks/998_train_0_.png  \n",
       "999  png_masks/999_train_1_.png  \n",
       "\n",
       "[1000 rows x 6 columns]"
      ]
     },
     "execution_count": 33,
     "metadata": {},
     "output_type": "execute_result"
    }
   ],
   "source": [
    "sdf = imageData.iloc[:1000]\n",
    "sdf"
   ]
  },
  {
   "cell_type": "code",
   "execution_count": 62,
   "id": "4bdd98e2-eb3d-4e4d-80f2-c89a7ffd4471",
   "metadata": {
    "tags": []
   },
   "outputs": [],
   "source": [
    "imageList = []\n",
    "for image in sdf.path:\n",
    "    imageList.append(cv2.resize(cv2.imread(image,cv2.IMREAD_COLOR),[224,224]))"
   ]
  },
  {
   "cell_type": "code",
   "execution_count": 63,
   "id": "448d0001-3955-4eac-a884-fd9145db0a59",
   "metadata": {
    "tags": []
   },
   "outputs": [],
   "source": [
    "npImageList = np.array(imageList)"
   ]
  },
  {
   "cell_type": "code",
   "execution_count": 64,
   "id": "65817b09-88e4-49a1-a763-f095a00c3724",
   "metadata": {
    "tags": []
   },
   "outputs": [
    {
     "data": {
      "text/plain": [
       "(1000, 224, 224, 3)"
      ]
     },
     "execution_count": 64,
     "metadata": {},
     "output_type": "execute_result"
    }
   ],
   "source": [
    "npImageList.shape"
   ]
  },
  {
   "cell_type": "code",
   "execution_count": 65,
   "id": "633f1ad6-c0c3-439b-8281-03a94feb7dc3",
   "metadata": {
    "tags": []
   },
   "outputs": [
    {
     "data": {
      "text/plain": [
       "<keras.engine.functional.Functional at 0x16b038278>"
      ]
     },
     "execution_count": 65,
     "metadata": {},
     "output_type": "execute_result"
    }
   ],
   "source": [
    "model = tf.keras.applications.ConvNeXtTiny(\n",
    "    model_name=\"convnext_tiny\",\n",
    "    include_top=True,\n",
    "    include_preprocessing=True,\n",
    "    weights=None,\n",
    "    input_tensor=None,\n",
    "    input_shape=None,\n",
    "    pooling=None,\n",
    "    classes=2,\n",
    "    classifier_activation=\"softmax\",\n",
    ") \n",
    "model"
   ]
  },
  {
   "cell_type": "code",
   "execution_count": 66,
   "id": "3331dfb4-11af-44d5-b5ce-62730a11d16b",
   "metadata": {
    "tags": []
   },
   "outputs": [],
   "source": [
    "ytrain = keras.utils.to_categorical(sdf.label)"
   ]
  },
  {
   "cell_type": "code",
   "execution_count": 67,
   "id": "92efc5c2-1f7f-42de-8f97-90a35d018715",
   "metadata": {
    "tags": []
   },
   "outputs": [
    {
     "data": {
      "text/plain": [
       "array([[1., 0.],\n",
       "       [1., 0.],\n",
       "       [0., 1.],\n",
       "       ...,\n",
       "       [1., 0.],\n",
       "       [1., 0.],\n",
       "       [0., 1.]], dtype=float32)"
      ]
     },
     "execution_count": 67,
     "metadata": {},
     "output_type": "execute_result"
    }
   ],
   "source": [
    "ytrain"
   ]
  },
  {
   "cell_type": "code",
   "execution_count": null,
   "id": "4803d8ec-ebbf-48a5-ba3f-116b468a903d",
   "metadata": {
    "tags": []
   },
   "outputs": [
    {
     "name": "stdout",
     "output_type": "stream",
     "text": [
      "Epoch 1/100\n"
     ]
    },
    {
     "name": "stderr",
     "output_type": "stream",
     "text": [
      "2023-10-18 18:28:50.267272: I tensorflow/compiler/xla/service/service.cc:173] XLA service 0x7f8397128d70 initialized for platform Host (this does not guarantee that XLA will be used). Devices:\n",
      "2023-10-18 18:28:50.267731: I tensorflow/compiler/xla/service/service.cc:181]   StreamExecutor device (0): Host, Default Version\n",
      "2023-10-18 18:28:50.269992: I tensorflow/core/platform/cpu_feature_guard.cc:193] This TensorFlow binary is optimized with oneAPI Deep Neural Network Library (oneDNN) to use the following CPU instructions in performance-critical operations:  AVX2 FMA\n",
      "To enable them in other operations, rebuild TensorFlow with the appropriate compiler flags.\n",
      "2023-10-18 18:28:50.419031: I tensorflow/compiler/jit/xla_compilation_cache.cc:477] Compiled cluster using XLA!  This line is logged at most once for the lifetime of the process.\n"
     ]
    },
    {
     "name": "stdout",
     "output_type": "stream",
     "text": [
      "12/32 [==========>...................] - ETA: 46:01:56 - loss: 1.8402"
     ]
    }
   ],
   "source": [
    "model.compile(optimizer=\"Adam\",loss=\"categorical_crossentropy\")\n",
    "model.fit(npImageList,ytrain,verbose=1,epochs=100)"
   ]
  },
  {
   "cell_type": "code",
   "execution_count": null,
   "id": "00b0d3ca-5d81-41ed-a4e1-a10d2b78b0d9",
   "metadata": {},
   "outputs": [],
   "source": []
  },
  {
   "cell_type": "code",
   "execution_count": null,
   "id": "b26d659d-21af-4f9a-8cdb-355fbd36bb8f",
   "metadata": {},
   "outputs": [],
   "source": []
  }
 ],
 "metadata": {
  "kernelspec": {
   "display_name": "Python 3 (ipykernel)",
   "language": "python",
   "name": "python3"
  },
  "language_info": {
   "codemirror_mode": {
    "name": "ipython",
    "version": 3
   },
   "file_extension": ".py",
   "mimetype": "text/x-python",
   "name": "python",
   "nbconvert_exporter": "python",
   "pygments_lexer": "ipython3",
   "version": "3.7.3"
  }
 },
 "nbformat": 4,
 "nbformat_minor": 5
}
